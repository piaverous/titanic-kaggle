{
 "cells": [
  {
   "cell_type": "markdown",
   "metadata": {},
   "source": [
    "# Kaggle - Titanic"
   ]
  },
  {
   "cell_type": "code",
   "execution_count": 28,
   "metadata": {},
   "outputs": [],
   "source": [
    "import pandas as pd\n",
    "import numpy as np\n",
    "\n",
    "from sklearn.model_selection import train_test_split\n",
    "from sklearn.ensemble import RandomForestClassifier"
   ]
  },
  {
   "cell_type": "code",
   "execution_count": 29,
   "metadata": {},
   "outputs": [
    {
     "data": {
      "text/html": [
       "<div>\n",
       "<style scoped>\n",
       "    .dataframe tbody tr th:only-of-type {\n",
       "        vertical-align: middle;\n",
       "    }\n",
       "\n",
       "    .dataframe tbody tr th {\n",
       "        vertical-align: top;\n",
       "    }\n",
       "\n",
       "    .dataframe thead th {\n",
       "        text-align: right;\n",
       "    }\n",
       "</style>\n",
       "<table border=\"1\" class=\"dataframe\">\n",
       "  <thead>\n",
       "    <tr style=\"text-align: right;\">\n",
       "      <th></th>\n",
       "      <th>PassengerId</th>\n",
       "      <th>Survived</th>\n",
       "      <th>Pclass</th>\n",
       "      <th>Name</th>\n",
       "      <th>Sex</th>\n",
       "      <th>Age</th>\n",
       "      <th>SibSp</th>\n",
       "      <th>Parch</th>\n",
       "      <th>Ticket</th>\n",
       "      <th>Fare</th>\n",
       "      <th>Cabin</th>\n",
       "      <th>Embarked</th>\n",
       "    </tr>\n",
       "  </thead>\n",
       "  <tbody>\n",
       "    <tr>\n",
       "      <td>0</td>\n",
       "      <td>1</td>\n",
       "      <td>0</td>\n",
       "      <td>3</td>\n",
       "      <td>Braund, Mr. Owen Harris</td>\n",
       "      <td>male</td>\n",
       "      <td>22.0</td>\n",
       "      <td>1</td>\n",
       "      <td>0</td>\n",
       "      <td>A/5 21171</td>\n",
       "      <td>7.2500</td>\n",
       "      <td>NaN</td>\n",
       "      <td>S</td>\n",
       "    </tr>\n",
       "    <tr>\n",
       "      <td>1</td>\n",
       "      <td>2</td>\n",
       "      <td>1</td>\n",
       "      <td>1</td>\n",
       "      <td>Cumings, Mrs. John Bradley (Florence Briggs Th...</td>\n",
       "      <td>female</td>\n",
       "      <td>38.0</td>\n",
       "      <td>1</td>\n",
       "      <td>0</td>\n",
       "      <td>PC 17599</td>\n",
       "      <td>71.2833</td>\n",
       "      <td>C85</td>\n",
       "      <td>C</td>\n",
       "    </tr>\n",
       "    <tr>\n",
       "      <td>2</td>\n",
       "      <td>3</td>\n",
       "      <td>1</td>\n",
       "      <td>3</td>\n",
       "      <td>Heikkinen, Miss. Laina</td>\n",
       "      <td>female</td>\n",
       "      <td>26.0</td>\n",
       "      <td>0</td>\n",
       "      <td>0</td>\n",
       "      <td>STON/O2. 3101282</td>\n",
       "      <td>7.9250</td>\n",
       "      <td>NaN</td>\n",
       "      <td>S</td>\n",
       "    </tr>\n",
       "    <tr>\n",
       "      <td>3</td>\n",
       "      <td>4</td>\n",
       "      <td>1</td>\n",
       "      <td>1</td>\n",
       "      <td>Futrelle, Mrs. Jacques Heath (Lily May Peel)</td>\n",
       "      <td>female</td>\n",
       "      <td>35.0</td>\n",
       "      <td>1</td>\n",
       "      <td>0</td>\n",
       "      <td>113803</td>\n",
       "      <td>53.1000</td>\n",
       "      <td>C123</td>\n",
       "      <td>S</td>\n",
       "    </tr>\n",
       "    <tr>\n",
       "      <td>4</td>\n",
       "      <td>5</td>\n",
       "      <td>0</td>\n",
       "      <td>3</td>\n",
       "      <td>Allen, Mr. William Henry</td>\n",
       "      <td>male</td>\n",
       "      <td>35.0</td>\n",
       "      <td>0</td>\n",
       "      <td>0</td>\n",
       "      <td>373450</td>\n",
       "      <td>8.0500</td>\n",
       "      <td>NaN</td>\n",
       "      <td>S</td>\n",
       "    </tr>\n",
       "    <tr>\n",
       "      <td>...</td>\n",
       "      <td>...</td>\n",
       "      <td>...</td>\n",
       "      <td>...</td>\n",
       "      <td>...</td>\n",
       "      <td>...</td>\n",
       "      <td>...</td>\n",
       "      <td>...</td>\n",
       "      <td>...</td>\n",
       "      <td>...</td>\n",
       "      <td>...</td>\n",
       "      <td>...</td>\n",
       "      <td>...</td>\n",
       "    </tr>\n",
       "    <tr>\n",
       "      <td>886</td>\n",
       "      <td>887</td>\n",
       "      <td>0</td>\n",
       "      <td>2</td>\n",
       "      <td>Montvila, Rev. Juozas</td>\n",
       "      <td>male</td>\n",
       "      <td>27.0</td>\n",
       "      <td>0</td>\n",
       "      <td>0</td>\n",
       "      <td>211536</td>\n",
       "      <td>13.0000</td>\n",
       "      <td>NaN</td>\n",
       "      <td>S</td>\n",
       "    </tr>\n",
       "    <tr>\n",
       "      <td>887</td>\n",
       "      <td>888</td>\n",
       "      <td>1</td>\n",
       "      <td>1</td>\n",
       "      <td>Graham, Miss. Margaret Edith</td>\n",
       "      <td>female</td>\n",
       "      <td>19.0</td>\n",
       "      <td>0</td>\n",
       "      <td>0</td>\n",
       "      <td>112053</td>\n",
       "      <td>30.0000</td>\n",
       "      <td>B42</td>\n",
       "      <td>S</td>\n",
       "    </tr>\n",
       "    <tr>\n",
       "      <td>888</td>\n",
       "      <td>889</td>\n",
       "      <td>0</td>\n",
       "      <td>3</td>\n",
       "      <td>Johnston, Miss. Catherine Helen \"Carrie\"</td>\n",
       "      <td>female</td>\n",
       "      <td>NaN</td>\n",
       "      <td>1</td>\n",
       "      <td>2</td>\n",
       "      <td>W./C. 6607</td>\n",
       "      <td>23.4500</td>\n",
       "      <td>NaN</td>\n",
       "      <td>S</td>\n",
       "    </tr>\n",
       "    <tr>\n",
       "      <td>889</td>\n",
       "      <td>890</td>\n",
       "      <td>1</td>\n",
       "      <td>1</td>\n",
       "      <td>Behr, Mr. Karl Howell</td>\n",
       "      <td>male</td>\n",
       "      <td>26.0</td>\n",
       "      <td>0</td>\n",
       "      <td>0</td>\n",
       "      <td>111369</td>\n",
       "      <td>30.0000</td>\n",
       "      <td>C148</td>\n",
       "      <td>C</td>\n",
       "    </tr>\n",
       "    <tr>\n",
       "      <td>890</td>\n",
       "      <td>891</td>\n",
       "      <td>0</td>\n",
       "      <td>3</td>\n",
       "      <td>Dooley, Mr. Patrick</td>\n",
       "      <td>male</td>\n",
       "      <td>32.0</td>\n",
       "      <td>0</td>\n",
       "      <td>0</td>\n",
       "      <td>370376</td>\n",
       "      <td>7.7500</td>\n",
       "      <td>NaN</td>\n",
       "      <td>Q</td>\n",
       "    </tr>\n",
       "  </tbody>\n",
       "</table>\n",
       "<p>891 rows × 12 columns</p>\n",
       "</div>"
      ],
      "text/plain": [
       "     PassengerId  Survived  Pclass  \\\n",
       "0              1         0       3   \n",
       "1              2         1       1   \n",
       "2              3         1       3   \n",
       "3              4         1       1   \n",
       "4              5         0       3   \n",
       "..           ...       ...     ...   \n",
       "886          887         0       2   \n",
       "887          888         1       1   \n",
       "888          889         0       3   \n",
       "889          890         1       1   \n",
       "890          891         0       3   \n",
       "\n",
       "                                                  Name     Sex   Age  SibSp  \\\n",
       "0                              Braund, Mr. Owen Harris    male  22.0      1   \n",
       "1    Cumings, Mrs. John Bradley (Florence Briggs Th...  female  38.0      1   \n",
       "2                               Heikkinen, Miss. Laina  female  26.0      0   \n",
       "3         Futrelle, Mrs. Jacques Heath (Lily May Peel)  female  35.0      1   \n",
       "4                             Allen, Mr. William Henry    male  35.0      0   \n",
       "..                                                 ...     ...   ...    ...   \n",
       "886                              Montvila, Rev. Juozas    male  27.0      0   \n",
       "887                       Graham, Miss. Margaret Edith  female  19.0      0   \n",
       "888           Johnston, Miss. Catherine Helen \"Carrie\"  female   NaN      1   \n",
       "889                              Behr, Mr. Karl Howell    male  26.0      0   \n",
       "890                                Dooley, Mr. Patrick    male  32.0      0   \n",
       "\n",
       "     Parch            Ticket     Fare Cabin Embarked  \n",
       "0        0         A/5 21171   7.2500   NaN        S  \n",
       "1        0          PC 17599  71.2833   C85        C  \n",
       "2        0  STON/O2. 3101282   7.9250   NaN        S  \n",
       "3        0            113803  53.1000  C123        S  \n",
       "4        0            373450   8.0500   NaN        S  \n",
       "..     ...               ...      ...   ...      ...  \n",
       "886      0            211536  13.0000   NaN        S  \n",
       "887      0            112053  30.0000   B42        S  \n",
       "888      2        W./C. 6607  23.4500   NaN        S  \n",
       "889      0            111369  30.0000  C148        C  \n",
       "890      0            370376   7.7500   NaN        Q  \n",
       "\n",
       "[891 rows x 12 columns]"
      ]
     },
     "execution_count": 29,
     "metadata": {},
     "output_type": "execute_result"
    }
   ],
   "source": [
    "train = pd.read_csv('./data/train.csv')\n",
    "test = pd.read_csv('./data/test.csv')\n",
    "data = pd.read_csv('./data/gender_submission.csv')\n",
    "\n",
    "train"
   ]
  },
  {
   "cell_type": "code",
   "execution_count": 37,
   "metadata": {},
   "outputs": [],
   "source": [
    "mean_age = np.nanmean(list(train[\"Age\"]))\n",
    "max_age = np.amax(list(train[\"Age\"]))\n",
    "train = train.fillna(mean_age)\n",
    "\n",
    "\n",
    "mean_n_of_family = np.mean([row['SibSp'] + row['Parch'] for index, row in train.iterrows()])"
   ]
  },
  {
   "cell_type": "code",
   "execution_count": 38,
   "metadata": {},
   "outputs": [],
   "source": [
    "def gender_to_int(gender):\n",
    "    return 1 if gender == 'male' else 0\n",
    "\n",
    "def embarked_to_int(embarked):\n",
    "    if embarked == 'S':\n",
    "        return 0\n",
    "    elif embarked == 'C': \n",
    "        return 1\n",
    "    else:\n",
    "        return 2\n",
    "    \n",
    "def get_x_data(data):\n",
    "    return [ [gender_to_int(row['Sex']), row['Age']/max_age, row['Pclass'], (row['SibSp'] + row['Parch'])/mean_n_of_family] for index, row in data.iterrows() ]\n",
    "\n",
    "\n",
    "X = get_x_data(train)\n",
    "Y = list(train[\"Survived\"])"
   ]
  },
  {
   "cell_type": "code",
   "execution_count": 39,
   "metadata": {},
   "outputs": [],
   "source": [
    "x_train, x_test, y_train, y_test = train_test_split(X, Y, test_size=0.33, random_state=42)"
   ]
  },
  {
   "cell_type": "markdown",
   "metadata": {},
   "source": [
    "## Using a RandomForestClassifier"
   ]
  },
  {
   "cell_type": "code",
   "execution_count": 40,
   "metadata": {},
   "outputs": [
    {
     "name": "stderr",
     "output_type": "stream",
     "text": [
      "//anaconda3/envs/kaggle-titanic/lib/python3.7/site-packages/sklearn/ensemble/forest.py:245: FutureWarning: The default value of n_estimators will change from 10 in version 0.20 to 100 in 0.22.\n",
      "  \"10 in version 0.20 to 100 in 0.22.\", FutureWarning)\n"
     ]
    },
    {
     "data": {
      "text/plain": [
       "RandomForestClassifier(bootstrap=True, class_weight=None, criterion='gini',\n",
       "                       max_depth=None, max_features='auto', max_leaf_nodes=None,\n",
       "                       min_impurity_decrease=0.0, min_impurity_split=None,\n",
       "                       min_samples_leaf=1, min_samples_split=2,\n",
       "                       min_weight_fraction_leaf=0.0, n_estimators=10,\n",
       "                       n_jobs=None, oob_score=False, random_state=None,\n",
       "                       verbose=0, warm_start=False)"
      ]
     },
     "execution_count": 40,
     "metadata": {},
     "output_type": "execute_result"
    }
   ],
   "source": [
    "rd = RandomForestClassifier()\n",
    "\n",
    "rd.fit(x_train, y_train)"
   ]
  },
  {
   "cell_type": "code",
   "execution_count": 41,
   "metadata": {},
   "outputs": [
    {
     "data": {
      "text/plain": [
       "0.8305084745762712"
      ]
     },
     "execution_count": 41,
     "metadata": {},
     "output_type": "execute_result"
    }
   ],
   "source": [
    "rd.score(x_test, y_test)"
   ]
  },
  {
   "cell_type": "code",
   "execution_count": 42,
   "metadata": {},
   "outputs": [
    {
     "data": {
      "text/plain": [
       "array([0.30862016, 0.44007973, 0.14430759, 0.10699252])"
      ]
     },
     "execution_count": 42,
     "metadata": {},
     "output_type": "execute_result"
    }
   ],
   "source": [
    "rd.feature_importances_"
   ]
  },
  {
   "cell_type": "code",
   "execution_count": 71,
   "metadata": {},
   "outputs": [],
   "source": [
    "test = test.fillna(mean_age)\n",
    "x_test_data = get_x_data(test)\n",
    "\n",
    "y_pred = rd.predict(x_test_data)\n",
    "\n",
    "final = pd.DataFrame(zip(test['PassengerId'], y_pred), columns=['PassengerId', 'Survived'])"
   ]
  },
  {
   "cell_type": "code",
   "execution_count": 44,
   "metadata": {},
   "outputs": [],
   "source": [
    "final.to_csv('result_rd.csv', index=False)"
   ]
  },
  {
   "cell_type": "markdown",
   "metadata": {},
   "source": [
    "## Using a KNeighborsClassifier"
   ]
  },
  {
   "cell_type": "code",
   "execution_count": 45,
   "metadata": {},
   "outputs": [],
   "source": [
    "from sklearn.neighbors import KNeighborsClassifier"
   ]
  },
  {
   "cell_type": "code",
   "execution_count": 47,
   "metadata": {},
   "outputs": [
    {
     "data": {
      "text/plain": [
       "KNeighborsClassifier(algorithm='auto', leaf_size=30, metric='minkowski',\n",
       "                     metric_params=None, n_jobs=None, n_neighbors=3, p=2,\n",
       "                     weights='uniform')"
      ]
     },
     "execution_count": 47,
     "metadata": {},
     "output_type": "execute_result"
    }
   ],
   "source": [
    "knn = KNeighborsClassifier(n_neighbors=3)\n",
    "knn.fit(x_train, y_train)"
   ]
  },
  {
   "cell_type": "code",
   "execution_count": 48,
   "metadata": {},
   "outputs": [
    {
     "data": {
      "text/plain": [
       "0.8067796610169492"
      ]
     },
     "execution_count": 48,
     "metadata": {},
     "output_type": "execute_result"
    }
   ],
   "source": [
    "knn.score(x_test, y_test)"
   ]
  },
  {
   "cell_type": "markdown",
   "metadata": {},
   "source": [
    "## Using a basic neural network"
   ]
  },
  {
   "cell_type": "code",
   "execution_count": 49,
   "metadata": {},
   "outputs": [],
   "source": [
    "from keras import Sequential\n",
    "from keras.layers import *\n",
    "from keras.optimizers import Adam\n",
    "from keras.losses import binary_crossentropy"
   ]
  },
  {
   "cell_type": "code",
   "execution_count": 63,
   "metadata": {},
   "outputs": [
    {
     "name": "stdout",
     "output_type": "stream",
     "text": [
      "_________________________________________________________________\n",
      "Layer (type)                 Output Shape              Param #   \n",
      "=================================================================\n",
      "dense_8 (Dense)              (None, 8)                 40        \n",
      "_________________________________________________________________\n",
      "dense_9 (Dense)              (None, 16)                144       \n",
      "_________________________________________________________________\n",
      "dense_10 (Dense)             (None, 1)                 17        \n",
      "=================================================================\n",
      "Total params: 201\n",
      "Trainable params: 201\n",
      "Non-trainable params: 0\n",
      "_________________________________________________________________\n"
     ]
    }
   ],
   "source": [
    "lr = 0.001\n",
    "\n",
    "model = Sequential()\n",
    "model.add(Dense(8, input_shape=(4,), activation='relu'))\n",
    "model.add(Dense(16, activation='relu'))\n",
    "model.add(Dense(1, activation='sigmoid'))\n",
    "\n",
    "model.compile(loss=binary_crossentropy,\n",
    "              optimizer=Adam(lr),\n",
    "             metrics=['acc'])\n",
    "model.summary()\n"
   ]
  },
  {
   "cell_type": "code",
   "execution_count": 64,
   "metadata": {},
   "outputs": [
    {
     "name": "stdout",
     "output_type": "stream",
     "text": [
      "Train on 596 samples, validate on 295 samples\n",
      "Epoch 1/100\n",
      "596/596 [==============================] - 1s 2ms/step - loss: 0.7100 - acc: 0.4698 - val_loss: 0.6603 - val_acc: 0.5932\n",
      "Epoch 2/100\n",
      "596/596 [==============================] - 0s 389us/step - loss: 0.6274 - acc: 0.6275 - val_loss: 0.6202 - val_acc: 0.5932\n",
      "Epoch 3/100\n",
      "596/596 [==============================] - 0s 433us/step - loss: 0.5982 - acc: 0.6292 - val_loss: 0.5983 - val_acc: 0.6068\n",
      "Epoch 4/100\n",
      "596/596 [==============================] - 0s 363us/step - loss: 0.5793 - acc: 0.6829 - val_loss: 0.5766 - val_acc: 0.6983\n",
      "Epoch 5/100\n",
      "596/596 [==============================] - 0s 377us/step - loss: 0.5573 - acc: 0.7114 - val_loss: 0.5482 - val_acc: 0.7322\n",
      "Epoch 6/100\n",
      "596/596 [==============================] - 0s 662us/step - loss: 0.5370 - acc: 0.7550 - val_loss: 0.5275 - val_acc: 0.7593\n",
      "Epoch 7/100\n",
      "596/596 [==============================] - 0s 417us/step - loss: 0.5196 - acc: 0.7768 - val_loss: 0.5055 - val_acc: 0.7559\n",
      "Epoch 8/100\n",
      "596/596 [==============================] - 0s 391us/step - loss: 0.5024 - acc: 0.7819 - val_loss: 0.4855 - val_acc: 0.7661\n",
      "Epoch 9/100\n",
      "596/596 [==============================] - 0s 410us/step - loss: 0.4885 - acc: 0.7869 - val_loss: 0.4735 - val_acc: 0.7661\n",
      "Epoch 10/100\n",
      "596/596 [==============================] - 0s 396us/step - loss: 0.4779 - acc: 0.7819 - val_loss: 0.4618 - val_acc: 0.8034\n",
      "Epoch 11/100\n",
      "596/596 [==============================] - 0s 437us/step - loss: 0.4720 - acc: 0.7953 - val_loss: 0.4562 - val_acc: 0.8000\n",
      "Epoch 12/100\n",
      "596/596 [==============================] - 0s 402us/step - loss: 0.4677 - acc: 0.7919 - val_loss: 0.4515 - val_acc: 0.8068\n",
      "Epoch 13/100\n",
      "596/596 [==============================] - 0s 380us/step - loss: 0.4617 - acc: 0.7903 - val_loss: 0.4499 - val_acc: 0.8000\n",
      "Epoch 14/100\n",
      "596/596 [==============================] - 0s 369us/step - loss: 0.4602 - acc: 0.7987 - val_loss: 0.4461 - val_acc: 0.8068\n",
      "Epoch 15/100\n",
      "596/596 [==============================] - 0s 365us/step - loss: 0.4582 - acc: 0.7919 - val_loss: 0.4448 - val_acc: 0.8034\n",
      "Epoch 16/100\n",
      "596/596 [==============================] - 0s 373us/step - loss: 0.4553 - acc: 0.7953 - val_loss: 0.4423 - val_acc: 0.8068\n",
      "Epoch 17/100\n",
      "596/596 [==============================] - 0s 352us/step - loss: 0.4542 - acc: 0.7936 - val_loss: 0.4420 - val_acc: 0.8034\n",
      "Epoch 18/100\n",
      "596/596 [==============================] - 0s 348us/step - loss: 0.4518 - acc: 0.7953 - val_loss: 0.4394 - val_acc: 0.8068\n",
      "Epoch 19/100\n",
      "596/596 [==============================] - 0s 360us/step - loss: 0.4524 - acc: 0.8020 - val_loss: 0.4399 - val_acc: 0.8034\n",
      "Epoch 20/100\n",
      "596/596 [==============================] - 0s 397us/step - loss: 0.4507 - acc: 0.7903 - val_loss: 0.4388 - val_acc: 0.8034\n",
      "Epoch 21/100\n",
      "596/596 [==============================] - 0s 360us/step - loss: 0.4494 - acc: 0.8003 - val_loss: 0.4380 - val_acc: 0.8034\n",
      "Epoch 22/100\n",
      "596/596 [==============================] - 0s 358us/step - loss: 0.4475 - acc: 0.7919 - val_loss: 0.4374 - val_acc: 0.8068\n",
      "Epoch 23/100\n",
      "596/596 [==============================] - 0s 356us/step - loss: 0.4497 - acc: 0.7987 - val_loss: 0.4386 - val_acc: 0.7932\n",
      "Epoch 24/100\n",
      "596/596 [==============================] - 0s 420us/step - loss: 0.4475 - acc: 0.7987 - val_loss: 0.4372 - val_acc: 0.7966\n",
      "Epoch 25/100\n",
      "596/596 [==============================] - 0s 422us/step - loss: 0.4449 - acc: 0.7953 - val_loss: 0.4367 - val_acc: 0.8034\n",
      "Epoch 26/100\n",
      "596/596 [==============================] - 0s 422us/step - loss: 0.4452 - acc: 0.8054 - val_loss: 0.4365 - val_acc: 0.8034\n",
      "Epoch 27/100\n",
      "596/596 [==============================] - 0s 430us/step - loss: 0.4447 - acc: 0.7919 - val_loss: 0.4356 - val_acc: 0.8034\n",
      "Epoch 28/100\n",
      "596/596 [==============================] - 0s 409us/step - loss: 0.4435 - acc: 0.8020 - val_loss: 0.4356 - val_acc: 0.8034\n",
      "Epoch 29/100\n",
      "596/596 [==============================] - 0s 375us/step - loss: 0.4434 - acc: 0.8020 - val_loss: 0.4349 - val_acc: 0.8034\n",
      "Epoch 30/100\n",
      "596/596 [==============================] - 0s 349us/step - loss: 0.4409 - acc: 0.7987 - val_loss: 0.4380 - val_acc: 0.7729\n",
      "Epoch 31/100\n",
      "596/596 [==============================] - 0s 349us/step - loss: 0.4432 - acc: 0.8104 - val_loss: 0.4352 - val_acc: 0.7898\n",
      "Epoch 32/100\n",
      "596/596 [==============================] - 0s 350us/step - loss: 0.4424 - acc: 0.7987 - val_loss: 0.4335 - val_acc: 0.8068\n",
      "Epoch 33/100\n",
      "596/596 [==============================] - 0s 439us/step - loss: 0.4418 - acc: 0.7936 - val_loss: 0.4339 - val_acc: 0.8034\n",
      "Epoch 34/100\n",
      "596/596 [==============================] - 0s 458us/step - loss: 0.4418 - acc: 0.8037 - val_loss: 0.4326 - val_acc: 0.8102\n",
      "Epoch 35/100\n",
      "596/596 [==============================] - 0s 399us/step - loss: 0.4406 - acc: 0.7953 - val_loss: 0.4332 - val_acc: 0.8034\n",
      "Epoch 36/100\n",
      "596/596 [==============================] - 0s 429us/step - loss: 0.4413 - acc: 0.7970 - val_loss: 0.4334 - val_acc: 0.8000\n",
      "Epoch 37/100\n",
      "596/596 [==============================] - 0s 353us/step - loss: 0.4410 - acc: 0.7987 - val_loss: 0.4323 - val_acc: 0.8102\n",
      "Epoch 38/100\n",
      "596/596 [==============================] - 0s 345us/step - loss: 0.4405 - acc: 0.7953 - val_loss: 0.4329 - val_acc: 0.8102\n",
      "Epoch 39/100\n",
      "596/596 [==============================] - 0s 348us/step - loss: 0.4405 - acc: 0.8070 - val_loss: 0.4308 - val_acc: 0.8102\n",
      "Epoch 40/100\n",
      "596/596 [==============================] - 0s 366us/step - loss: 0.4392 - acc: 0.7970 - val_loss: 0.4311 - val_acc: 0.8102\n",
      "Epoch 41/100\n",
      "596/596 [==============================] - 0s 359us/step - loss: 0.4395 - acc: 0.8003 - val_loss: 0.4323 - val_acc: 0.7898\n",
      "Epoch 42/100\n",
      "596/596 [==============================] - 0s 371us/step - loss: 0.4377 - acc: 0.8020 - val_loss: 0.4315 - val_acc: 0.8068\n",
      "Epoch 43/100\n",
      "596/596 [==============================] - 0s 365us/step - loss: 0.4380 - acc: 0.7987 - val_loss: 0.4316 - val_acc: 0.7932\n",
      "Epoch 44/100\n",
      "596/596 [==============================] - 0s 367us/step - loss: 0.4392 - acc: 0.8020 - val_loss: 0.4298 - val_acc: 0.8102\n",
      "Epoch 45/100\n",
      "596/596 [==============================] - 0s 377us/step - loss: 0.4363 - acc: 0.7970 - val_loss: 0.4313 - val_acc: 0.8034\n",
      "Epoch 46/100\n",
      "596/596 [==============================] - 0s 378us/step - loss: 0.4378 - acc: 0.8070 - val_loss: 0.4309 - val_acc: 0.7898\n",
      "Epoch 47/100\n",
      "596/596 [==============================] - 0s 359us/step - loss: 0.4361 - acc: 0.8037 - val_loss: 0.4323 - val_acc: 0.8034\n",
      "Epoch 48/100\n",
      "596/596 [==============================] - 0s 366us/step - loss: 0.4384 - acc: 0.8054 - val_loss: 0.4311 - val_acc: 0.8102\n",
      "Epoch 49/100\n",
      "596/596 [==============================] - 0s 352us/step - loss: 0.4368 - acc: 0.8104 - val_loss: 0.4316 - val_acc: 0.7932\n",
      "Epoch 50/100\n",
      "596/596 [==============================] - 0s 349us/step - loss: 0.4360 - acc: 0.7970 - val_loss: 0.4312 - val_acc: 0.8169\n",
      "Epoch 51/100\n",
      "596/596 [==============================] - 0s 351us/step - loss: 0.4373 - acc: 0.8037 - val_loss: 0.4297 - val_acc: 0.8102\n",
      "Epoch 52/100\n",
      "596/596 [==============================] - 0s 353us/step - loss: 0.4358 - acc: 0.8054 - val_loss: 0.4313 - val_acc: 0.8068\n",
      "Epoch 53/100\n",
      "596/596 [==============================] - 0s 348us/step - loss: 0.4352 - acc: 0.8054 - val_loss: 0.4297 - val_acc: 0.8000\n",
      "Epoch 54/100\n",
      "596/596 [==============================] - 0s 359us/step - loss: 0.4345 - acc: 0.7987 - val_loss: 0.4300 - val_acc: 0.8169\n",
      "Epoch 55/100\n",
      "596/596 [==============================] - 0s 362us/step - loss: 0.4360 - acc: 0.8070 - val_loss: 0.4295 - val_acc: 0.7932\n",
      "Epoch 56/100\n",
      "596/596 [==============================] - 0s 360us/step - loss: 0.4355 - acc: 0.8020 - val_loss: 0.4293 - val_acc: 0.8068\n",
      "Epoch 57/100\n",
      "596/596 [==============================] - 0s 359us/step - loss: 0.4339 - acc: 0.8138 - val_loss: 0.4288 - val_acc: 0.8068\n",
      "Epoch 58/100\n",
      "596/596 [==============================] - 0s 362us/step - loss: 0.4341 - acc: 0.8037 - val_loss: 0.4284 - val_acc: 0.8169\n",
      "Epoch 59/100\n",
      "596/596 [==============================] - 0s 363us/step - loss: 0.4345 - acc: 0.8138 - val_loss: 0.4285 - val_acc: 0.8136\n",
      "Epoch 60/100\n",
      "596/596 [==============================] - 0s 352us/step - loss: 0.4346 - acc: 0.8070 - val_loss: 0.4280 - val_acc: 0.8169\n"
     ]
    },
    {
     "name": "stdout",
     "output_type": "stream",
     "text": [
      "Epoch 61/100\n",
      "596/596 [==============================] - 0s 344us/step - loss: 0.4323 - acc: 0.8138 - val_loss: 0.4296 - val_acc: 0.8136\n",
      "Epoch 62/100\n",
      "596/596 [==============================] - 0s 353us/step - loss: 0.4338 - acc: 0.8087 - val_loss: 0.4274 - val_acc: 0.8169\n",
      "Epoch 63/100\n",
      "596/596 [==============================] - 0s 349us/step - loss: 0.4322 - acc: 0.8138 - val_loss: 0.4262 - val_acc: 0.8068\n",
      "Epoch 64/100\n",
      "596/596 [==============================] - 0s 351us/step - loss: 0.4341 - acc: 0.8171 - val_loss: 0.4267 - val_acc: 0.8169\n",
      "Epoch 65/100\n",
      "596/596 [==============================] - 0s 351us/step - loss: 0.4317 - acc: 0.8171 - val_loss: 0.4266 - val_acc: 0.8000\n",
      "Epoch 66/100\n",
      "596/596 [==============================] - 0s 367us/step - loss: 0.4323 - acc: 0.8070 - val_loss: 0.4251 - val_acc: 0.8203\n",
      "Epoch 67/100\n",
      "596/596 [==============================] - 0s 348us/step - loss: 0.4311 - acc: 0.8087 - val_loss: 0.4272 - val_acc: 0.8136\n",
      "Epoch 68/100\n",
      "596/596 [==============================] - 0s 350us/step - loss: 0.4313 - acc: 0.8070 - val_loss: 0.4254 - val_acc: 0.8102\n",
      "Epoch 69/100\n",
      "596/596 [==============================] - 0s 356us/step - loss: 0.4321 - acc: 0.8121 - val_loss: 0.4263 - val_acc: 0.8034\n",
      "Epoch 70/100\n",
      "596/596 [==============================] - 0s 395us/step - loss: 0.4312 - acc: 0.8104 - val_loss: 0.4272 - val_acc: 0.8237\n",
      "Epoch 71/100\n",
      "596/596 [==============================] - 0s 403us/step - loss: 0.4310 - acc: 0.8154 - val_loss: 0.4255 - val_acc: 0.8203\n",
      "Epoch 72/100\n",
      "596/596 [==============================] - 0s 350us/step - loss: 0.4308 - acc: 0.8054 - val_loss: 0.4261 - val_acc: 0.8203\n",
      "Epoch 73/100\n",
      "596/596 [==============================] - 0s 356us/step - loss: 0.4316 - acc: 0.8188 - val_loss: 0.4265 - val_acc: 0.8203\n",
      "Epoch 74/100\n",
      "596/596 [==============================] - 0s 350us/step - loss: 0.4312 - acc: 0.8104 - val_loss: 0.4285 - val_acc: 0.8169\n",
      "Epoch 75/100\n",
      "596/596 [==============================] - 0s 351us/step - loss: 0.4318 - acc: 0.8104 - val_loss: 0.4264 - val_acc: 0.8203\n",
      "Epoch 76/100\n",
      "596/596 [==============================] - 0s 350us/step - loss: 0.4329 - acc: 0.8121 - val_loss: 0.4259 - val_acc: 0.8169\n",
      "Epoch 77/100\n",
      "596/596 [==============================] - 0s 349us/step - loss: 0.4321 - acc: 0.8104 - val_loss: 0.4271 - val_acc: 0.8203\n",
      "Epoch 78/100\n",
      "596/596 [==============================] - 0s 353us/step - loss: 0.4288 - acc: 0.8171 - val_loss: 0.4256 - val_acc: 0.8068\n",
      "Epoch 79/100\n",
      "596/596 [==============================] - 0s 352us/step - loss: 0.4311 - acc: 0.8054 - val_loss: 0.4257 - val_acc: 0.8034\n",
      "Epoch 80/100\n",
      "596/596 [==============================] - 0s 354us/step - loss: 0.4295 - acc: 0.8171 - val_loss: 0.4250 - val_acc: 0.8237\n",
      "Epoch 81/100\n",
      "596/596 [==============================] - 0s 361us/step - loss: 0.4286 - acc: 0.8104 - val_loss: 0.4259 - val_acc: 0.8000\n",
      "Epoch 82/100\n",
      "596/596 [==============================] - 0s 357us/step - loss: 0.4289 - acc: 0.8104 - val_loss: 0.4250 - val_acc: 0.8237\n",
      "Epoch 83/100\n",
      "596/596 [==============================] - 0s 359us/step - loss: 0.4283 - acc: 0.8121 - val_loss: 0.4264 - val_acc: 0.8169\n",
      "Epoch 84/100\n",
      "596/596 [==============================] - 0s 348us/step - loss: 0.4279 - acc: 0.8255 - val_loss: 0.4244 - val_acc: 0.8136\n",
      "Epoch 85/100\n",
      "596/596 [==============================] - 0s 361us/step - loss: 0.4287 - acc: 0.8104 - val_loss: 0.4247 - val_acc: 0.8203\n",
      "Epoch 86/100\n",
      "596/596 [==============================] - 0s 364us/step - loss: 0.4282 - acc: 0.8188 - val_loss: 0.4262 - val_acc: 0.8237\n",
      "Epoch 87/100\n",
      "596/596 [==============================] - 0s 353us/step - loss: 0.4280 - acc: 0.8104 - val_loss: 0.4253 - val_acc: 0.8203\n",
      "Epoch 88/100\n",
      "596/596 [==============================] - 0s 358us/step - loss: 0.4278 - acc: 0.8154 - val_loss: 0.4239 - val_acc: 0.8271\n",
      "Epoch 89/100\n",
      "596/596 [==============================] - 0s 346us/step - loss: 0.4273 - acc: 0.8138 - val_loss: 0.4239 - val_acc: 0.8271\n",
      "Epoch 90/100\n",
      "596/596 [==============================] - 0s 351us/step - loss: 0.4271 - acc: 0.8221 - val_loss: 0.4230 - val_acc: 0.8102\n",
      "Epoch 91/100\n",
      "596/596 [==============================] - 0s 348us/step - loss: 0.4261 - acc: 0.8188 - val_loss: 0.4247 - val_acc: 0.8271\n",
      "Epoch 92/100\n",
      "596/596 [==============================] - 0s 369us/step - loss: 0.4282 - acc: 0.8154 - val_loss: 0.4237 - val_acc: 0.8237\n",
      "Epoch 93/100\n",
      "596/596 [==============================] - 0s 381us/step - loss: 0.4278 - acc: 0.8138 - val_loss: 0.4238 - val_acc: 0.8169\n",
      "Epoch 94/100\n",
      "596/596 [==============================] - 0s 359us/step - loss: 0.4277 - acc: 0.8154 - val_loss: 0.4221 - val_acc: 0.8203\n",
      "Epoch 95/100\n",
      "596/596 [==============================] - 0s 356us/step - loss: 0.4270 - acc: 0.8188 - val_loss: 0.4230 - val_acc: 0.8271\n",
      "Epoch 96/100\n",
      "596/596 [==============================] - 0s 351us/step - loss: 0.4275 - acc: 0.8121 - val_loss: 0.4235 - val_acc: 0.8237\n",
      "Epoch 97/100\n",
      "596/596 [==============================] - 0s 357us/step - loss: 0.4272 - acc: 0.8138 - val_loss: 0.4243 - val_acc: 0.8305\n",
      "Epoch 98/100\n",
      "596/596 [==============================] - 0s 353us/step - loss: 0.4262 - acc: 0.8138 - val_loss: 0.4253 - val_acc: 0.8305\n",
      "Epoch 99/100\n",
      "596/596 [==============================] - 0s 353us/step - loss: 0.4264 - acc: 0.8188 - val_loss: 0.4252 - val_acc: 0.8271\n",
      "Epoch 100/100\n",
      "596/596 [==============================] - 0s 414us/step - loss: 0.4267 - acc: 0.8087 - val_loss: 0.4252 - val_acc: 0.8305\n"
     ]
    },
    {
     "data": {
      "text/plain": [
       "<keras.callbacks.History at 0x1a3ce00090>"
      ]
     },
     "execution_count": 64,
     "metadata": {},
     "output_type": "execute_result"
    }
   ],
   "source": [
    "model.fit(np.array(x_train), y_train,\n",
    "                  epochs=100,\n",
    "                  batch_size=5,\n",
    "                  validation_data=(np.array(x_test), y_test))"
   ]
  },
  {
   "cell_type": "code",
   "execution_count": 72,
   "metadata": {},
   "outputs": [
    {
     "data": {
      "text/html": [
       "<div>\n",
       "<style scoped>\n",
       "    .dataframe tbody tr th:only-of-type {\n",
       "        vertical-align: middle;\n",
       "    }\n",
       "\n",
       "    .dataframe tbody tr th {\n",
       "        vertical-align: top;\n",
       "    }\n",
       "\n",
       "    .dataframe thead th {\n",
       "        text-align: right;\n",
       "    }\n",
       "</style>\n",
       "<table border=\"1\" class=\"dataframe\">\n",
       "  <thead>\n",
       "    <tr style=\"text-align: right;\">\n",
       "      <th></th>\n",
       "      <th>PassengerId</th>\n",
       "      <th>Survived</th>\n",
       "    </tr>\n",
       "  </thead>\n",
       "  <tbody>\n",
       "    <tr>\n",
       "      <td>0</td>\n",
       "      <td>892</td>\n",
       "      <td>0</td>\n",
       "    </tr>\n",
       "    <tr>\n",
       "      <td>1</td>\n",
       "      <td>893</td>\n",
       "      <td>1</td>\n",
       "    </tr>\n",
       "    <tr>\n",
       "      <td>2</td>\n",
       "      <td>894</td>\n",
       "      <td>0</td>\n",
       "    </tr>\n",
       "    <tr>\n",
       "      <td>3</td>\n",
       "      <td>895</td>\n",
       "      <td>0</td>\n",
       "    </tr>\n",
       "    <tr>\n",
       "      <td>4</td>\n",
       "      <td>896</td>\n",
       "      <td>1</td>\n",
       "    </tr>\n",
       "  </tbody>\n",
       "</table>\n",
       "</div>"
      ],
      "text/plain": [
       "   PassengerId  Survived\n",
       "0          892         0\n",
       "1          893         1\n",
       "2          894         0\n",
       "3          895         0\n",
       "4          896         1"
      ]
     },
     "execution_count": 72,
     "metadata": {},
     "output_type": "execute_result"
    }
   ],
   "source": [
    "def get_my_x_data(data):\n",
    "    return [ list([gender_to_int(row['Sex']), row['Age']/max_age, row['Pclass'], (row['SibSp'] + row['Parch'])/mean_n_of_family] for index, row in data.iterrows()) ]\n",
    "            \n",
    "\n",
    "test = test.fillna(mean_age)\n",
    "x_test_data = get_my_x_data(test)\n",
    "\n",
    "y_pred = model.predict(x_test_data)\n",
    "y_pred = [1 if x[0] > 0.5 else 0 for x in y_pred]\n",
    "\n",
    "final = pd.DataFrame(zip(test['PassengerId'], y_pred), columns=['PassengerId', 'Survived'])\n",
    "final.head()"
   ]
  },
  {
   "cell_type": "code",
   "execution_count": 66,
   "metadata": {},
   "outputs": [],
   "source": [
    "final.to_csv('result_dl_2.csv', index=False)"
   ]
  },
  {
   "cell_type": "code",
   "execution_count": null,
   "metadata": {},
   "outputs": [],
   "source": []
  }
 ],
 "metadata": {
  "kernelspec": {
   "display_name": "Python 3",
   "language": "python",
   "name": "python3"
  },
  "language_info": {
   "codemirror_mode": {
    "name": "ipython",
    "version": 3
   },
   "file_extension": ".py",
   "mimetype": "text/x-python",
   "name": "python",
   "nbconvert_exporter": "python",
   "pygments_lexer": "ipython3",
   "version": "3.7.4"
  }
 },
 "nbformat": 4,
 "nbformat_minor": 2
}
